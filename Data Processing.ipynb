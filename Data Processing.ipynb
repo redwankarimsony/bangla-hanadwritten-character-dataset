{
 "cells": [
  {
   "cell_type": "markdown",
   "metadata": {},
   "source": [
    "# Basic Image Processing with PIL\n",
    "### Resizing all the images to 512x512 size"
   ]
  },
  {
   "cell_type": "code",
   "execution_count": 1,
   "metadata": {},
   "outputs": [],
   "source": [
    "import numpy as np\n",
    "from PIL import Image, ImageOps\n",
    "import os, sys"
   ]
  },
  {
   "cell_type": "markdown",
   "metadata": {},
   "source": [
    "### Run this code only once to convert the image grid to default size of 540x540. So that it makes exactly 60x60 grids for each of the images. "
   ]
  },
  {
   "cell_type": "code",
   "execution_count": null,
   "metadata": {},
   "outputs": [],
   "source": [
    "path = \"./input/\"\n",
    "dirs = os.listdir( path )\n",
    "\n",
    "def resize():\n",
    "    for item in dirs:\n",
    "        if os.path.isfile(path+item):\n",
    "            im = Image.open(path+item)\n",
    "            f, e = os.path.splitext(path+item)\n",
    "            imResize = im.resize((540,540), Image.ANTIALIAS)\n",
    "            imResize.save(f + ' resized.jpg', 'JPEG', quality=90)\n",
    "\n",
    "resize()"
   ]
  },
  {
   "cell_type": "code",
   "execution_count": null,
   "metadata": {},
   "outputs": [],
   "source": []
  },
  {
   "cell_type": "code",
   "execution_count": 13,
   "metadata": {
    "scrolled": true
   },
   "outputs": [],
   "source": [
    "# list all the filenames of the grids\n",
    "data_grid_paths = os.listdir('./input540/')\n",
    "\n",
    "# In the dataset folder, for each of the character, create a folder. It should run only once. \n",
    "for i in range(1, 82):\n",
    "    os.mkdir('./dataset/'+str(i))"
   ]
  },
  {
   "cell_type": "code",
   "execution_count": 14,
   "metadata": {
    "scrolled": false
   },
   "outputs": [
    {
     "name": "stdout",
     "output_type": "stream",
     "text": [
      "input (15) resized.jpg is done processing\n",
      "input (32) resized.jpg is done processing\n",
      "input (5) resized.jpg is done processing\n",
      "input (9) resized.jpg is done processing\n",
      "input (26) resized.jpg is done processing\n",
      "input (16) resized.jpg is done processing\n",
      "input (17) resized.jpg is done processing\n",
      "input (7) resized.jpg is done processing\n",
      "input (3) resized.jpg is done processing\n",
      "input (11) resized.jpg is done processing\n",
      "input (24) resized.jpg is done processing\n",
      "input (31) resized.jpg is done processing\n",
      "input (1) resized.jpg is done processing\n",
      "input (20) resized.jpg is done processing\n",
      "input (6) resized.jpg is done processing\n",
      "input (2) resized.jpg is done processing\n",
      "input (29) resized.jpg is done processing\n",
      "input (27) resized.jpg is done processing\n",
      "input (12) resized.jpg is done processing\n",
      "input (13) resized.jpg is done processing\n",
      "input (25) resized.jpg is done processing\n",
      "input (23) resized.jpg is done processing\n",
      "input (30) resized.jpg is done processing\n",
      "input (18) resized.jpg is done processing\n",
      "input (8) resized.jpg is done processing\n",
      "input (33) resized.jpg is done processing\n",
      "input (28) resized.jpg is done processing\n",
      "input (19) resized.jpg is done processing\n",
      "input (10) resized.jpg is done processing\n",
      "input (21) resized.jpg is done processing\n",
      "input (22) resized.jpg is done processing\n",
      "input (4) resized.jpg is done processing\n",
      "input (14) resized.jpg is done processing\n"
     ]
    }
   ],
   "source": [
    "for filename in data_grid_paths:\n",
    "    print(filename, 'is done processing')\n",
    "    distribute_data(filename)"
   ]
  },
  {
   "cell_type": "code",
   "execution_count": 11,
   "metadata": {},
   "outputs": [],
   "source": [
    "def distribute_data(gridname):\n",
    "    img = Image.open('./input540/' + gridname)\n",
    "    import imageio\n",
    "    r = 9\n",
    "    c = 9\n",
    "    index = 1\n",
    "    stride = 5\n",
    "    img3 = np.asarray(img)\n",
    "    snap_h = 60\n",
    "    snap_w = 60\n",
    "    for i in range(c):\n",
    "        for j in range(r):\n",
    "#             plt.subplot(r,c, index)\n",
    "#             plt.gray()\n",
    "            snap = img3[j*snap_h:(j+1)*snap_h, i*snap_w:(i+1)*snap_w, :]\n",
    "            final = snap[stride:snap_h-stride,     stride:snap_w-stride, :]\n",
    "            imageio.imwrite('./dataset/' + str(index)+'/' + str(gridname[0:-4])+str('.png'), final.astype(np.uint8), format = 'png')\n",
    "#             plt.imshow(final)\n",
    "#             plt.axis(False)\n",
    "    #         im= Image.fromarray(final)\n",
    "    #         im.save('./testoutput/_' + str(index)+'.bmp')\n",
    "            index+=1"
   ]
  },
  {
   "cell_type": "code",
   "execution_count": null,
   "metadata": {},
   "outputs": [],
   "source": []
  }
 ],
 "metadata": {
  "kernelspec": {
   "display_name": "Python 3",
   "language": "python",
   "name": "python3"
  },
  "language_info": {
   "codemirror_mode": {
    "name": "ipython",
    "version": 3
   },
   "file_extension": ".py",
   "mimetype": "text/x-python",
   "name": "python",
   "nbconvert_exporter": "python",
   "pygments_lexer": "ipython3",
   "version": "3.6.10"
  }
 },
 "nbformat": 4,
 "nbformat_minor": 4
}
